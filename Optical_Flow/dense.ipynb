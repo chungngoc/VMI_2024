{
 "cells": [
  {
   "cell_type": "code",
   "execution_count": 1,
   "metadata": {
    "id": "Rx6uS2vhz36D"
   },
   "outputs": [],
   "source": [
    "import cv2 as cv\n",
    "import numpy as np"
   ]
  },
  {
   "cell_type": "code",
   "execution_count": 3,
   "metadata": {
    "collapsed": true,
    "id": "jd5MINtlz36G"
   },
   "outputs": [
    {
     "name": "stdout",
     "output_type": "stream",
     "text": [
      "Can't receive frame (stream end?). Exiting ...\n"
     ]
    }
   ],
   "source": [
    "video_path = r\"videos/bugs.mp4\"\n",
    "cap = cv.VideoCapture(video_path)\n",
    "\n",
    "while cap.isOpened():\n",
    "    ret, frame = cap.read()\n",
    "\n",
    "    # if frame is read correctly ret is True\n",
    "    if not ret:\n",
    "        print(\"Can't receive frame (stream end?). Exiting ...\")\n",
    "        break\n",
    "    gray = cv.cvtColor(frame, cv.COLOR_BGR2GRAY)\n",
    "\n",
    "    cv.imshow('frame',frame)\n",
    "    if cv.waitKey(1) == ord('q'):\n",
    "        break\n",
    "\n",
    "cap.release()\n",
    "cv.destroyAllWindows()"
   ]
  },
  {
   "cell_type": "code",
   "execution_count": 4,
   "metadata": {
    "colab": {
     "base_uri": "https://localhost:8080/",
     "height": 395
    },
    "collapsed": true,
    "id": "BNVyxKwq1HBu",
    "outputId": "7557cbd3-6863-4b23-9ef6-f23d7052ff8d"
   },
   "outputs": [
    {
     "name": "stdout",
     "output_type": "stream",
     "text": [
      "No frames grabbed!\n"
     ]
    }
   ],
   "source": [
    "video_path = r\"videos/bugs.mp4\"\n",
    "cap = cv.VideoCapture(video_path)\n",
    "ret, first_frame = cap.read()\n",
    "# Converts frame to grayscale because we only need the luminance channel for detecting edges - less computationally expensive\n",
    "prev_gray = cv.cvtColor(first_frame, cv.COLOR_BGR2GRAY)\n",
    "\n",
    "# Create a mask image for drawing purposes\n",
    "mask = np.zeros_like(first_frame)\n",
    "# Sets image saturation to maximum\n",
    "mask[..., 1] = 255\n",
    "\n",
    "while(cap.isOpened()):\n",
    "  ret, frame = cap.read()\n",
    "  if not ret:\n",
    "    print('No frames grabbed!')\n",
    "    break\n",
    "\n",
    "  cv.imshow('original frame',frame)\n",
    "  gray = cv.cvtColor(frame, cv.COLOR_BGR2GRAY)\n",
    "  # Calculates dense optical flow by Farneback method\n",
    "  flow = cv.calcOpticalFlowFarneback(prev_gray, gray, None, 0.5, 3, 15, 3, 5, 1.2, 0)\n",
    "  # Computes the magnitude and angle of the 2D vectors\n",
    "  magnitude, angle = cv.cartToPolar(flow[..., 0], flow[..., 1])\n",
    "  # Sets image hue according to the optical flow direction\n",
    "  mask[..., 0] = angle * 180 / np.pi / 2\n",
    "  # Sets image value according to the optical flow magnitude (normalized)\n",
    "  mask[..., 2] = cv.normalize(magnitude, None, 0, 255, cv.NORM_MINMAX)\n",
    "  # Converts HSV to RGB (BGR) color representation\n",
    "  rgb = cv.cvtColor(mask, cv.COLOR_HSV2BGR)\n",
    "  # Opens a new window and displays the output frame\n",
    "  cv.imshow('dense optical flow', rgb)\n",
    "  # Updates previous frame\n",
    "  prev_gray = gray\n",
    "\n",
    "  k = cv.waitKey(30) & 0xff\n",
    "  if k == 27:\n",
    "    break\n",
    "  elif k == ord('s'):\n",
    "    cv.imwrite('opticalfb.png', frame)\n",
    "    cv.imwrite('opticalrgb.png', rgb)\n",
    "\n",
    "\n",
    "# Frees up resources and closes all windows\n",
    "cap.release()\n",
    "cv.destroyAllWindows()"
   ]
  }
 ],
 "metadata": {
  "colab": {
   "provenance": []
  },
  "kernelspec": {
   "display_name": "base",
   "language": "python",
   "name": "python3"
  },
  "language_info": {
   "codemirror_mode": {
    "name": "ipython",
    "version": 3
   },
   "file_extension": ".py",
   "mimetype": "text/x-python",
   "name": "python",
   "nbconvert_exporter": "python",
   "pygments_lexer": "ipython3",
   "version": "3.8.5"
  }
 },
 "nbformat": 4,
 "nbformat_minor": 0
}
