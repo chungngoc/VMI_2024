{
 "cells": [
  {
   "cell_type": "code",
   "execution_count": 1,
   "metadata": {
    "id": "FtFmBTSvdI6y"
   },
   "outputs": [],
   "source": [
    "import cv2 as cv\n",
    "import numpy as np"
   ]
  },
  {
   "cell_type": "code",
   "execution_count": 2,
   "metadata": {
    "colab": {
     "background_save": true
    },
    "id": "PxYcIaH-Bte1"
   },
   "outputs": [
    {
     "name": "stdout",
     "output_type": "stream",
     "text": [
      "No frames grabbed!\n"
     ]
    }
   ],
   "source": [
    "cap = cv.VideoCapture('videos/planet.mp4')\n",
    "\n",
    "while(cap.isOpened()):\n",
    "  # ret = a boolean return value from getting the frame, frame = the current frame being projected in the video\n",
    "  ret, frame = cap.read()\n",
    "\n",
    "  if not ret:\n",
    "    print('No frames grabbed!')\n",
    "    break\n",
    "\n",
    "  cv.imshow('frame',frame)\n",
    "  if cv.waitKey(10) & 0xFF == ord('q'):\n",
    "    break\n",
    "\n",
    "cap.release()\n",
    "cv.destroyAllWindows()"
   ]
  },
  {
   "cell_type": "code",
   "execution_count": 3,
   "metadata": {
    "colab": {
     "base_uri": "https://localhost:8080/",
     "height": 515
    },
    "id": "-ShhlmAedI6z",
    "outputId": "0d2e66f1-04ce-4470-fe63-32fa30f4c041"
   },
   "outputs": [
    {
     "name": "stdout",
     "output_type": "stream",
     "text": [
      "No frames grabbed!\n"
     ]
    }
   ],
   "source": [
    "cap = cv.VideoCapture('videos/planet.mp4')\n",
    "\n",
    "# params for ShiTomasi corner detection\n",
    "feature_params = dict( maxCorners = 300,\n",
    "                       qualityLevel = 0.2,\n",
    "                       minDistance = 2,\n",
    "                       blockSize = 7 )\n",
    "\n",
    "# Parameters for Lucas Kanade optical flow\n",
    "lk_params = dict( winSize  = (15, 15),\n",
    "                  maxLevel = 2,\n",
    "                  criteria = (cv.TERM_CRITERIA_EPS | cv.TERM_CRITERIA_COUNT, 10, 0.03))\n",
    "\n",
    "# Variable for color to draw optical flow track\n",
    "# color = (255, 255, 0)\n",
    "color = np.random.randint(0, 255, (100, 3))\n",
    "\n",
    "# ret : boolean return value from getting the frame ; first_frame : first frame in the entire video sequence\n",
    "ret, first_frame = cap.read()\n",
    "# Converts frame to grayscale because we only need the luminance channel for detecting edges - less computationally expensive\n",
    "prev_gray = cv.cvtColor(first_frame, cv.COLOR_BGR2GRAY)\n",
    "prev = cv.goodFeaturesToTrack(prev_gray, mask = None, **feature_params)\n",
    "\n",
    "# Create a mask image for drawing purposes\n",
    "mask = np.zeros_like(first_frame)\n",
    "\n",
    "while(cap.isOpened()):\n",
    "  # ret = a boolean return value from getting the frame, frame = the current frame being projected in the video\n",
    "  ret, frame = cap.read()\n",
    "\n",
    "  if not ret:\n",
    "    print('No frames grabbed!')\n",
    "    break\n",
    "\n",
    "  frame_gray = cv.cvtColor(frame, cv.COLOR_BGR2GRAY)\n",
    "  prev = cv.goodFeaturesToTrack(prev_gray, mask = None, **feature_params)\n",
    "  # calculate optical flow\n",
    "  next, status, error = cv.calcOpticalFlowPyrLK(prev_gray, frame_gray, prev, None, **lk_params)\n",
    "\n",
    "  # Selects good feature points for previous position\n",
    "  if next is not None:\n",
    "    good_new = next[status==1].astype(int)\n",
    "    good_old = prev[status == 1].astype(int)\n",
    "\n",
    "  # Draws the optical flow tracks\n",
    "  for i, (new, old) in enumerate(zip(good_new, good_old)):\n",
    "    # Returns a contiguous flattened array as (x, y) coordinates for new point\n",
    "    a, b = new.ravel()\n",
    "    # Returns a contiguous flattened array as (x, y) coordinates for old point\n",
    "    c, d = old.ravel()\n",
    "    # Draws line between new and old position\n",
    "    mask = cv.line(mask, (a, b), (c, d), color[i].tolist(), 2)\n",
    "    # Draws filled circle (thickness of -1) at new position\n",
    "    frame = cv.circle(frame, (a, b), 3, color[i].tolist(), -1)\n",
    "  # Overlays the optical flow tracks on the original frame\n",
    "  output = cv.add(frame, mask)\n",
    "  # Updates previous frame and good feature points\n",
    "  prev_gray = frame_gray.copy()\n",
    "  prev = good_new.reshape(-1, 1, 2)\n",
    "\n",
    "  # Opens a new window and displays the output frame\n",
    "  cv.imshow('output',output)\n",
    "  if cv.waitKey(10) & 0xFF == ord('q'):\n",
    "    break\n",
    "\n",
    "# Frees up resources and closes all windows\n",
    "cap.release()\n",
    "cv.destroyAllWindows()"
   ]
  }
 ],
 "metadata": {
  "colab": {
   "provenance": []
  },
  "kernelspec": {
   "display_name": "base",
   "language": "python",
   "name": "python3"
  },
  "language_info": {
   "codemirror_mode": {
    "name": "ipython",
    "version": 3
   },
   "file_extension": ".py",
   "mimetype": "text/x-python",
   "name": "python",
   "nbconvert_exporter": "python",
   "pygments_lexer": "ipython3",
   "version": "3.8.5"
  }
 },
 "nbformat": 4,
 "nbformat_minor": 0
}
