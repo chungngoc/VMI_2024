{
  "nbformat": 4,
  "nbformat_minor": 0,
  "metadata": {
    "colab": {
      "provenance": [],
      "gpuType": "T4",
      "authorship_tag": "ABX9TyOL8RHHLeStJP7QofpK1hsZ",
      "include_colab_link": true
    },
    "kernelspec": {
      "name": "python3",
      "display_name": "Python 3"
    },
    "language_info": {
      "name": "python"
    },
    "accelerator": "GPU"
  },
  "cells": [
    {
      "cell_type": "markdown",
      "metadata": {
        "id": "view-in-github",
        "colab_type": "text"
      },
      "source": [
        "<a href=\"https://colab.research.google.com/github/chungngoc/VMI_2024/blob/main/TP_SelfSupervisedLearning.ipynb\" target=\"_parent\"><img src=\"https://colab.research.google.com/assets/colab-badge.svg\" alt=\"Open In Colab\"/></a>"
      ]
    },
    {
      "cell_type": "code",
      "execution_count": 1,
      "metadata": {
        "colab": {
          "base_uri": "https://localhost:8080/"
        },
        "id": "KsVjnQkTuSes",
        "outputId": "31c506a6-1540-4afb-d014-94e62dd0c4f7"
      },
      "outputs": [
        {
          "output_type": "stream",
          "name": "stdout",
          "text": [
            "Cloning into 'cs294-158-ssl'...\n",
            "remote: Enumerating objects: 611, done.\u001b[K\n",
            "remote: Counting objects: 100% (189/189), done.\u001b[K\n",
            "remote: Compressing objects: 100% (136/136), done.\u001b[K\n",
            "remote: Total 611 (delta 115), reused 119 (delta 53), pack-reused 422 (from 1)\u001b[K\n",
            "Receiving objects: 100% (611/611), 3.11 MiB | 6.80 MiB/s, done.\n",
            "Resolving deltas: 100% (424/424), done.\n",
            "Processing ./cs294-158-ssl\n",
            "  Preparing metadata (setup.py) ... \u001b[?25l\u001b[?25hdone\n",
            "Building wheels for collected packages: deepul_helper\n",
            "  Building wheel for deepul_helper (setup.py) ... \u001b[?25l\u001b[?25hdone\n",
            "  Created wheel for deepul_helper: filename=deepul_helper-0.1.0-py3-none-any.whl size=25300 sha256=5be27f03d0c57b007fe920e56092d639e1f4c1df9d36d5ba3775c39533557c84\n",
            "  Stored in directory: /root/.cache/pip/wheels/e3/df/97/281e32d717214451862e0e558746de423b9ef530b7376421e2\n",
            "Successfully built deepul_helper\n",
            "Installing collected packages: deepul_helper\n",
            "  Attempting uninstall: deepul_helper\n",
            "    Found existing installation: deepul_helper 0.1.0\n",
            "    Uninstalling deepul_helper-0.1.0:\n",
            "      Successfully uninstalled deepul_helper-0.1.0\n",
            "Successfully installed deepul_helper-0.1.0\n"
          ]
        }
      ],
      "source": [
        "!if [ -d cs294-158-ssl ]; then rm -Rf cs294-158-ssl; fi\n",
        "!git clone https://github.com/ckurtz/cs294-158-ssl\n",
        "!pip install cs294-158-ssl/\n",
        "\n",
        "import os\n",
        "os.chdir('cs294-158-ssl')"
      ]
    },
    {
      "cell_type": "markdown",
      "source": [
        "Download the necessary pretrained models"
      ],
      "metadata": {
        "id": "tW0h2lpFunXo"
      }
    },
    {
      "cell_type": "code",
      "source": [
        "!wget https://camille-kurtz.com/teaching/data.zip\n",
        "!unzip -qq data.zip\n",
        "!rm data.zip"
      ],
      "metadata": {
        "colab": {
          "base_uri": "https://localhost:8080/"
        },
        "id": "p7wgjB4XuvA2",
        "outputId": "749bb157-08c1-4b9d-8eff-d41532f4f6ca"
      },
      "execution_count": 2,
      "outputs": [
        {
          "output_type": "stream",
          "name": "stdout",
          "text": [
            "--2024-11-10 22:47:15--  https://camille-kurtz.com/teaching/data.zip\n",
            "Resolving camille-kurtz.com (camille-kurtz.com)... 213.186.33.3\n",
            "Connecting to camille-kurtz.com (camille-kurtz.com)|213.186.33.3|:443... connected.\n",
            "HTTP request sent, awaiting response... 200 OK\n",
            "Length: 4227668031 (3.9G) [application/zip]\n",
            "Saving to: ‘data.zip’\n",
            "\n",
            "data.zip            100%[===================>]   3.94G  19.5MB/s    in 3m 34s  \n",
            "\n",
            "2024-11-10 22:50:50 (18.8 MB/s) - ‘data.zip’ saved [4227668031/4227668031]\n",
            "\n"
          ]
        }
      ]
    },
    {
      "cell_type": "code",
      "source": [
        "!wget https://camille-kurtz.com/teaching/results.zip\n",
        "!unzip -qq results.zip\n",
        "!rm results.zip"
      ],
      "metadata": {
        "colab": {
          "base_uri": "https://localhost:8080/"
        },
        "id": "GsMbyUmnu0Fx",
        "outputId": "145a92db-e5dc-4155-f1fa-833baa30f8cf"
      },
      "execution_count": null,
      "outputs": [
        {
          "output_type": "stream",
          "name": "stdout",
          "text": [
            "--2024-11-10 22:52:24--  https://camille-kurtz.com/teaching/results.zip\n",
            "Resolving camille-kurtz.com (camille-kurtz.com)... 213.186.33.3\n",
            "Connecting to camille-kurtz.com (camille-kurtz.com)|213.186.33.3|:443... connected.\n",
            "HTTP request sent, awaiting response... 200 OK\n",
            "Length: 2636425194 (2.5G) [application/zip]\n",
            "Saving to: ‘results.zip’\n",
            "\n",
            "results.zip          58%[==========>         ]   1.44G  19.5MB/s    eta 54s    "
          ]
        }
      ]
    },
    {
      "cell_type": "markdown",
      "source": [
        "# Comparer les performances de classification de l’ensemble des modèles"
      ],
      "metadata": {
        "id": "IWjScmTKvN50"
      }
    },
    {
      "cell_type": "code",
      "source": [
        "import numpy as np\n",
        "import pandas as pd\n",
        "import torch\n",
        "import matplotlib.pyplot as plt\n",
        "from deepul_helper.demos import evaluate_classifier, load_model_and_data\n",
        "%matplotlib inline\n",
        "torch.cuda.is_available()"
      ],
      "metadata": {
        "colab": {
          "base_uri": "https://localhost:8080/"
        },
        "id": "uG2bgzHp33YG",
        "outputId": "df21bd9b-2333-440e-9eac-858ccacc11fd"
      },
      "execution_count": 3,
      "outputs": [
        {
          "output_type": "execute_result",
          "data": {
            "text/plain": [
              "True"
            ]
          },
          "metadata": {},
          "execution_count": 3
        }
      ]
    },
    {
      "cell_type": "code",
      "source": [
        "train_scores, test_scores = [], []\n",
        "\n",
        "type_models = ['context_encoder', 'rotation', 'simclr']\n",
        "for type_model in type_models:\n",
        "    model, linear_classifier, train_loader, test_loader = load_model_and_data(type_model)\n",
        "    train_acc1, train_acc5 = evaluate_classifier(model, linear_classifier, train_loader)\n",
        "    train_scores.append((train_acc1, train_acc5))\n",
        "\n",
        "    test_acc1, test_acc5 = evaluate_classifier(model, linear_classifier, test_loader)\n",
        "    test_scores.append((test_acc1, test_acc5))\n",
        "\n",
        "print(train_scores)\n",
        "print(test_scores)"
      ],
      "metadata": {
        "colab": {
          "base_uri": "https://localhost:8080/"
        },
        "id": "Ouy_AZQGvIYQ",
        "outputId": "d6cb543b-fce6-4cc2-bd08-195d9f05eaa6"
      },
      "execution_count": null,
      "outputs": [
        {
          "output_type": "stream",
          "name": "stdout",
          "text": [
            "Files already downloaded and verified\n",
            "Files already downloaded and verified\n"
          ]
        },
        {
          "output_type": "stream",
          "name": "stderr",
          "text": [
            "/usr/local/lib/python3.10/dist-packages/torch/utils/data/dataloader.py:617: UserWarning: This DataLoader will create 4 worker processes in total. Our suggested max number of worker in current system is 2, which is smaller than what this DataLoader is going to create. Please be aware that excessive worker creation might get DataLoader running slow or even freeze, lower the worker number to avoid potential slowness/freeze if necessary.\n",
            "  warnings.warn(\n",
            "/content/cs294-158-ssl/deepul_helper/demos.py:26: FutureWarning: You are using `torch.load` with `weights_only=False` (the current default value), which uses the default pickle module implicitly. It is possible to construct malicious pickle data which will execute arbitrary code during unpickling (See https://github.com/pytorch/pytorch/blob/main/SECURITY.md#untrusted-models for more details). In a future release, the default value for `weights_only` will be flipped to `True`. This limits the functions that could be executed during unpickling. Arbitrary objects will no longer be allowed to be loaded via this mode unless they are explicitly allowlisted by the user via `torch.serialization.add_safe_globals`. We recommend you start setting `weights_only=True` for any use case where you don't have full control of the loaded file. Please open an issue on GitHub for any issues related to this experimental feature.\n",
            "  ckpt = torch.load(ckpt_pth, map_location='cpu')\n"
          ]
        },
        {
          "output_type": "stream",
          "name": "stdout",
          "text": [
            "Files already downloaded and verified\n",
            "Files already downloaded and verified\n",
            "Files already downloaded and verified\n",
            "Files already downloaded and verified\n",
            "[(53.236, 94.094), (79.636, 99.084), (89.996, 99.504)]\n",
            "[(45.77, 90.29), (79.91, 99.12), (92.84, 99.86)]\n"
          ]
        }
      ]
    },
    {
      "cell_type": "code",
      "source": [
        "train_scores = np.array(train_scores)\n",
        "test_scores = np.array(test_scores)\n",
        "\n",
        "test_acc = {\n",
        "    'context_encoder': test_scores[0],\n",
        "    'rotation': test_scores[1],\n",
        "    'simclr': test_scores[2]\n",
        "}\n",
        "\n",
        "index_labels = ['Top-1 Accuracy', 'Top-5 Accuracy']\n",
        "df_test = pd.DataFrame(test_acc, index = index_labels)\n",
        "print(df_test)\n"
      ],
      "metadata": {
        "colab": {
          "base_uri": "https://localhost:8080/"
        },
        "id": "N_YpXE45-KVf",
        "outputId": "678290cf-6f47-4edc-e70e-def9718ac6b8"
      },
      "execution_count": null,
      "outputs": [
        {
          "output_type": "stream",
          "name": "stdout",
          "text": [
            "                context_encoder  rotation  simclr\n",
            "Top-1 Accuracy            45.77     79.91   92.84\n",
            "Top-5 Accuracy            90.29     99.12   99.86\n"
          ]
        }
      ]
    },
    {
      "cell_type": "code",
      "source": [
        "fig, ax = plt.subplots(figsize=(10, 6))\n",
        "bar_width = 0.2\n",
        "index = np.arange(len(type_models))\n",
        "\n",
        "# Plot bars for each accuracy metric\n",
        "for i, metric in enumerate(df_test.index):\n",
        "    ax.bar(index + i * bar_width, df_test.loc[metric], bar_width, label=metric)\n",
        "\n",
        "# Labeling\n",
        "ax.set_xlabel('Models')\n",
        "ax.set_ylabel('Accuracy (%)')\n",
        "ax.set_title('Comparison of Top-1 and Top-5 Accuracy on test set')\n",
        "ax.set_xticks(index + bar_width / 2)\n",
        "ax.set_xticklabels(df_test.columns)\n",
        "ax.legend()\n",
        "\n",
        "# Show plot\n",
        "plt.show()\n"
      ],
      "metadata": {
        "colab": {
          "base_uri": "https://localhost:8080/",
          "height": 564
        },
        "id": "tCl3bUsry-gq",
        "outputId": "6dd706d2-1f31-487e-db45-4669da821585"
      },
      "execution_count": null,
      "outputs": [
        {
          "output_type": "display_data",
          "data": {
            "text/plain": [
              "<Figure size 1000x600 with 1 Axes>"
            ],
            "image/png": "[encoded data removed]"
          },
          "metadata": {}
        }
      ]
    },
    {
      "cell_type": "markdown",
      "source": [
        "# Autre dataset SVHN\n"
      ],
      "metadata": {
        "id": "J0IPIcdKCfwZ"
      }
    },
    {
      "cell_type": "code",
      "source": [
        "from torchvision import datasets\n",
        "from torchvision import transforms\n",
        "import torch.utils.data as data\n",
        "from deepul_helper.data import SimCLRDataTransform\n",
        "import os.path as osp\n",
        "\n",
        "def get_transform(dataset, task , train=True):\n",
        "  transform = None\n",
        "  if task == 'context_encoder':\n",
        "    if dataset == 'svhn':\n",
        "      transform = transforms.Compose([\n",
        "          transforms.Resize(128),\n",
        "          transforms.ToTensor(),\n",
        "          transforms.Normalize((0.4379, 0.4438, 0.4728), (0.198, 0.201, 0.197))\n",
        "      ])\n",
        "  elif task == 'rotation':\n",
        "    if dataset == 'svhn':\n",
        "      if train:\n",
        "        transform = transforms.Compose([\n",
        "            transforms.RandomCrop(32, padding=4),\n",
        "            transforms.RandomHorizontalFlip(),\n",
        "            transforms.ToTensor(),\n",
        "            transforms.Normalize((0.4379, 0.4438, 0.4728), (0.198, 0.201, 0.197))\n",
        "        ])\n",
        "      else:\n",
        "        transform = transforms.Compose([\n",
        "            transforms.ToTensor(),\n",
        "            transforms.Normalize((0.4379, 0.4438, 0.4728), (0.198, 0.201, 0.197))\n",
        "        ])\n",
        "  elif task == 'simclr':\n",
        "    if dataset == 'svhn':\n",
        "      if train:\n",
        "        transform = transforms.Compose([\n",
        "            transforms.RandomResizedCrop(32),\n",
        "            transforms.RandomHorizontalFlip(p=0.5),\n",
        "            transforms.RandomApply([transforms.ColorJitter(0.4, 0.4, 0.4, 0.1)], p=0.8),\n",
        "            transforms.RandomGrayscale(p=0.2),\n",
        "            transforms.ToTensor(),\n",
        "            transforms.Normalize([0.4379, 0.4438, 0.4728], [0.198, 0.201, 0.197])\n",
        "        ])\n",
        "      else:\n",
        "        transform = transforms.Compose([\n",
        "            transforms.ToTensor(),\n",
        "            transforms.Normalize([0.4379, 0.4438, 0.4728], [0.198, 0.201, 0.197])\n",
        "        ])\n",
        "    transform = SimCLRDataTransform(transform)\n",
        "\n",
        "  return transform\n",
        "\n",
        "def get_datasets_svhn(dataset, task):\n",
        "  train_dset = datasets.SVHN(osp.join('data', dataset), split='train',\n",
        "                                      transform=get_transform(dataset, task, train=True),\n",
        "                                      download=True)\n",
        "  test_dset = datasets.SVHN(osp.join('data', dataset), split='test',\n",
        "                                     transform=get_transform(dataset, task, train=False),\n",
        "                                     download=True)\n",
        "  return train_dset, test_dset"
      ],
      "metadata": {
        "id": "ND1At6IhOrYA"
      },
      "execution_count": 1,
      "outputs": []
    },
    {
      "cell_type": "code",
      "source": [
        "train_scores, test_scores = [], []\n",
        "\n",
        "type_models = ['context_encoder', 'rotation', 'simclr']\n",
        "for type_model in type_models:\n",
        "    model, linear_classifier, _ , _ = load_model_and_data(type_model)\n",
        "    # Get another dataset\n",
        "    train_svhn, test_svhn = get_datasets_svhn(dataset='stl10', task = type_model)\n",
        "    train_loader_svhn = data.DataLoader(train_svhn, batch_size=128, num_workers=4,\n",
        "                                      pin_memory=True, shuffle=True)\n",
        "    test_loader_svhn = data.DataLoader(test_svhn, batch_size=128, num_workers=4,\n",
        "                                  pin_memory=True, shuffle=True)\n",
        "    # Get scores\n",
        "    train_acc1, train_acc5 = evaluate_classifier(model, linear_classifier, train_loader_svhn)\n",
        "    train_scores.append((train_acc1, train_acc5))\n",
        "\n",
        "    test_acc1, test_acc5 = evaluate_classifier(model, linear_classifier, test_loader_svhn)\n",
        "    test_scores.append((test_acc1, test_acc5))\n",
        "\n",
        "print(train_scores)\n",
        "print(test_scores)"
      ],
      "metadata": {
        "colab": {
          "base_uri": "https://localhost:8080/",
          "height": 537
        },
        "id": "ivO1PCCl0836",
        "outputId": "8dd41fc4-1ffe-4977-cab9-cfcfb1e77932"
      },
      "execution_count": 4,
      "outputs": [
        {
          "output_type": "stream",
          "name": "stdout",
          "text": [
            "Downloading https://www.cs.toronto.edu/~kriz/cifar-10-python.tar.gz to data/cifar10/cifar-10-python.tar.gz\n"
          ]
        },
        {
          "output_type": "stream",
          "name": "stderr",
          "text": [
            "100%|██████████| 170M/170M [00:04<00:00, 37.8MB/s]\n"
          ]
        },
        {
          "output_type": "stream",
          "name": "stdout",
          "text": [
            "Extracting data/cifar10/cifar-10-python.tar.gz to data/cifar10\n",
            "Files already downloaded and verified\n"
          ]
        },
        {
          "output_type": "stream",
          "name": "stderr",
          "text": [
            "/usr/local/lib/python3.10/dist-packages/torch/utils/data/dataloader.py:617: UserWarning: This DataLoader will create 4 worker processes in total. Our suggested max number of worker in current system is 2, which is smaller than what this DataLoader is going to create. Please be aware that excessive worker creation might get DataLoader running slow or even freeze, lower the worker number to avoid potential slowness/freeze if necessary.\n",
            "  warnings.warn(\n",
            "/usr/local/lib/python3.10/dist-packages/deepul_helper/demos.py:26: FutureWarning: You are using `torch.load` with `weights_only=False` (the current default value), which uses the default pickle module implicitly. It is possible to construct malicious pickle data which will execute arbitrary code during unpickling (See https://github.com/pytorch/pytorch/blob/main/SECURITY.md#untrusted-models for more details). In a future release, the default value for `weights_only` will be flipped to `True`. This limits the functions that could be executed during unpickling. Arbitrary objects will no longer be allowed to be loaded via this mode unless they are explicitly allowlisted by the user via `torch.serialization.add_safe_globals`. We recommend you start setting `weights_only=True` for any use case where you don't have full control of the loaded file. Please open an issue on GitHub for any issues related to this experimental feature.\n",
            "  ckpt = torch.load(ckpt_pth, map_location='cpu')\n"
          ]
        },
        {
          "output_type": "error",
          "ename": "FileNotFoundError",
          "evalue": "[Errno 2] No such file or directory: 'results/cifar10_context_encoder/model_best.pth.tar'",
          "traceback": [
            "\u001b[0;31m---------------------------------------------------------------------------\u001b[0m",
            "\u001b[0;31mFileNotFoundError\u001b[0m                         Traceback (most recent call last)",
            "\u001b[0;32m<ipython-input-4-ee38fb73c347>\u001b[0m in \u001b[0;36m<cell line: 4>\u001b[0;34m()\u001b[0m\n\u001b[1;32m      3\u001b[0m \u001b[0mtype_models\u001b[0m \u001b[0;34m=\u001b[0m \u001b[0;34m[\u001b[0m\u001b[0;34m'context_encoder'\u001b[0m\u001b[0;34m,\u001b[0m \u001b[0;34m'rotation'\u001b[0m\u001b[0;34m,\u001b[0m \u001b[0;34m'simclr'\u001b[0m\u001b[0;34m]\u001b[0m\u001b[0;34m\u001b[0m\u001b[0;34m\u001b[0m\u001b[0m\n\u001b[1;32m      4\u001b[0m \u001b[0;32mfor\u001b[0m \u001b[0mtype_model\u001b[0m \u001b[0;32min\u001b[0m \u001b[0mtype_models\u001b[0m\u001b[0;34m:\u001b[0m\u001b[0;34m\u001b[0m\u001b[0;34m\u001b[0m\u001b[0m\n\u001b[0;32m----> 5\u001b[0;31m     \u001b[0mmodel\u001b[0m\u001b[0;34m,\u001b[0m \u001b[0mlinear_classifier\u001b[0m\u001b[0;34m,\u001b[0m \u001b[0m_\u001b[0m \u001b[0;34m,\u001b[0m \u001b[0m_\u001b[0m \u001b[0;34m=\u001b[0m \u001b[0mload_model_and_data\u001b[0m\u001b[0;34m(\u001b[0m\u001b[0mtype_model\u001b[0m\u001b[0;34m)\u001b[0m\u001b[0;34m\u001b[0m\u001b[0;34m\u001b[0m\u001b[0m\n\u001b[0m\u001b[1;32m      6\u001b[0m     \u001b[0;31m# Get another dataset\u001b[0m\u001b[0;34m\u001b[0m\u001b[0;34m\u001b[0m\u001b[0m\n\u001b[1;32m      7\u001b[0m     \u001b[0mtrain_svhn\u001b[0m\u001b[0;34m,\u001b[0m \u001b[0mtest_svhn\u001b[0m \u001b[0;34m=\u001b[0m \u001b[0mget_datasets_svhn\u001b[0m\u001b[0;34m(\u001b[0m\u001b[0mdataset\u001b[0m\u001b[0;34m=\u001b[0m\u001b[0;34m'stl10'\u001b[0m\u001b[0;34m,\u001b[0m \u001b[0mtask\u001b[0m \u001b[0;34m=\u001b[0m \u001b[0mtype_model\u001b[0m\u001b[0;34m)\u001b[0m\u001b[0;34m\u001b[0m\u001b[0;34m\u001b[0m\u001b[0m\n",
            "\u001b[0;32m/usr/local/lib/python3.10/dist-packages/deepul_helper/demos.py\u001b[0m in \u001b[0;36mload_model_and_data\u001b[0;34m(task, dataset)\u001b[0m\n\u001b[1;32m     24\u001b[0m \u001b[0;34m\u001b[0m\u001b[0m\n\u001b[1;32m     25\u001b[0m     \u001b[0mckpt_pth\u001b[0m \u001b[0;34m=\u001b[0m \u001b[0mosp\u001b[0m\u001b[0;34m.\u001b[0m\u001b[0mjoin\u001b[0m\u001b[0;34m(\u001b[0m\u001b[0;34m'results'\u001b[0m\u001b[0;34m,\u001b[0m \u001b[0;34mf'{dataset}_{task}'\u001b[0m\u001b[0;34m,\u001b[0m \u001b[0;34m'model_best.pth.tar'\u001b[0m\u001b[0;34m)\u001b[0m\u001b[0;34m\u001b[0m\u001b[0;34m\u001b[0m\u001b[0m\n\u001b[0;32m---> 26\u001b[0;31m     \u001b[0mckpt\u001b[0m \u001b[0;34m=\u001b[0m \u001b[0mtorch\u001b[0m\u001b[0;34m.\u001b[0m\u001b[0mload\u001b[0m\u001b[0;34m(\u001b[0m\u001b[0mckpt_pth\u001b[0m\u001b[0;34m,\u001b[0m \u001b[0mmap_location\u001b[0m\u001b[0;34m=\u001b[0m\u001b[0;34m'cpu'\u001b[0m\u001b[0;34m)\u001b[0m\u001b[0;34m\u001b[0m\u001b[0;34m\u001b[0m\u001b[0m\n\u001b[0m\u001b[1;32m     27\u001b[0m \u001b[0;34m\u001b[0m\u001b[0m\n\u001b[1;32m     28\u001b[0m     \u001b[0;32mif\u001b[0m \u001b[0mtask\u001b[0m \u001b[0;34m==\u001b[0m \u001b[0;34m'context_encoder'\u001b[0m\u001b[0;34m:\u001b[0m\u001b[0;34m\u001b[0m\u001b[0;34m\u001b[0m\u001b[0m\n",
            "\u001b[0;32m/usr/local/lib/python3.10/dist-packages/torch/serialization.py\u001b[0m in \u001b[0;36mload\u001b[0;34m(f, map_location, pickle_module, weights_only, mmap, **pickle_load_args)\u001b[0m\n\u001b[1;32m   1317\u001b[0m         \u001b[0mpickle_load_args\u001b[0m\u001b[0;34m[\u001b[0m\u001b[0;34m\"encoding\"\u001b[0m\u001b[0;34m]\u001b[0m \u001b[0;34m=\u001b[0m \u001b[0;34m\"utf-8\"\u001b[0m\u001b[0;34m\u001b[0m\u001b[0;34m\u001b[0m\u001b[0m\n\u001b[1;32m   1318\u001b[0m \u001b[0;34m\u001b[0m\u001b[0m\n\u001b[0;32m-> 1319\u001b[0;31m     \u001b[0;32mwith\u001b[0m \u001b[0m_open_file_like\u001b[0m\u001b[0;34m(\u001b[0m\u001b[0mf\u001b[0m\u001b[0;34m,\u001b[0m \u001b[0;34m\"rb\"\u001b[0m\u001b[0;34m)\u001b[0m \u001b[0;32mas\u001b[0m \u001b[0mopened_file\u001b[0m\u001b[0;34m:\u001b[0m\u001b[0;34m\u001b[0m\u001b[0;34m\u001b[0m\u001b[0m\n\u001b[0m\u001b[1;32m   1320\u001b[0m         \u001b[0;32mif\u001b[0m \u001b[0m_is_zipfile\u001b[0m\u001b[0;34m(\u001b[0m\u001b[0mopened_file\u001b[0m\u001b[0;34m)\u001b[0m\u001b[0;34m:\u001b[0m\u001b[0;34m\u001b[0m\u001b[0;34m\u001b[0m\u001b[0m\n\u001b[1;32m   1321\u001b[0m             \u001b[0;31m# The zipfile reader is going to advance the current file position.\u001b[0m\u001b[0;34m\u001b[0m\u001b[0;34m\u001b[0m\u001b[0m\n",
            "\u001b[0;32m/usr/local/lib/python3.10/dist-packages/torch/serialization.py\u001b[0m in \u001b[0;36m_open_file_like\u001b[0;34m(name_or_buffer, mode)\u001b[0m\n\u001b[1;32m    657\u001b[0m \u001b[0;32mdef\u001b[0m \u001b[0m_open_file_like\u001b[0m\u001b[0;34m(\u001b[0m\u001b[0mname_or_buffer\u001b[0m\u001b[0;34m,\u001b[0m \u001b[0mmode\u001b[0m\u001b[0;34m)\u001b[0m\u001b[0;34m:\u001b[0m\u001b[0;34m\u001b[0m\u001b[0;34m\u001b[0m\u001b[0m\n\u001b[1;32m    658\u001b[0m     \u001b[0;32mif\u001b[0m \u001b[0m_is_path\u001b[0m\u001b[0;34m(\u001b[0m\u001b[0mname_or_buffer\u001b[0m\u001b[0;34m)\u001b[0m\u001b[0;34m:\u001b[0m\u001b[0;34m\u001b[0m\u001b[0;34m\u001b[0m\u001b[0m\n\u001b[0;32m--> 659\u001b[0;31m         \u001b[0;32mreturn\u001b[0m \u001b[0m_open_file\u001b[0m\u001b[0;34m(\u001b[0m\u001b[0mname_or_buffer\u001b[0m\u001b[0;34m,\u001b[0m \u001b[0mmode\u001b[0m\u001b[0;34m)\u001b[0m\u001b[0;34m\u001b[0m\u001b[0;34m\u001b[0m\u001b[0m\n\u001b[0m\u001b[1;32m    660\u001b[0m     \u001b[0;32melse\u001b[0m\u001b[0;34m:\u001b[0m\u001b[0;34m\u001b[0m\u001b[0;34m\u001b[0m\u001b[0m\n\u001b[1;32m    661\u001b[0m         \u001b[0;32mif\u001b[0m \u001b[0;34m\"w\"\u001b[0m \u001b[0;32min\u001b[0m \u001b[0mmode\u001b[0m\u001b[0;34m:\u001b[0m\u001b[0;34m\u001b[0m\u001b[0;34m\u001b[0m\u001b[0m\n",
            "\u001b[0;32m/usr/local/lib/python3.10/dist-packages/torch/serialization.py\u001b[0m in \u001b[0;36m__init__\u001b[0;34m(self, name, mode)\u001b[0m\n\u001b[1;32m    638\u001b[0m \u001b[0;32mclass\u001b[0m \u001b[0m_open_file\u001b[0m\u001b[0;34m(\u001b[0m\u001b[0m_opener\u001b[0m\u001b[0;34m)\u001b[0m\u001b[0;34m:\u001b[0m\u001b[0;34m\u001b[0m\u001b[0;34m\u001b[0m\u001b[0m\n\u001b[1;32m    639\u001b[0m     \u001b[0;32mdef\u001b[0m \u001b[0m__init__\u001b[0m\u001b[0;34m(\u001b[0m\u001b[0mself\u001b[0m\u001b[0;34m,\u001b[0m \u001b[0mname\u001b[0m\u001b[0;34m,\u001b[0m \u001b[0mmode\u001b[0m\u001b[0;34m)\u001b[0m\u001b[0;34m:\u001b[0m\u001b[0;34m\u001b[0m\u001b[0;34m\u001b[0m\u001b[0m\n\u001b[0;32m--> 640\u001b[0;31m         \u001b[0msuper\u001b[0m\u001b[0;34m(\u001b[0m\u001b[0;34m)\u001b[0m\u001b[0;34m.\u001b[0m\u001b[0m__init__\u001b[0m\u001b[0;34m(\u001b[0m\u001b[0mopen\u001b[0m\u001b[0;34m(\u001b[0m\u001b[0mname\u001b[0m\u001b[0;34m,\u001b[0m \u001b[0mmode\u001b[0m\u001b[0;34m)\u001b[0m\u001b[0;34m)\u001b[0m\u001b[0;34m\u001b[0m\u001b[0;34m\u001b[0m\u001b[0m\n\u001b[0m\u001b[1;32m    641\u001b[0m \u001b[0;34m\u001b[0m\u001b[0m\n\u001b[1;32m    642\u001b[0m     \u001b[0;32mdef\u001b[0m \u001b[0m__exit__\u001b[0m\u001b[0;34m(\u001b[0m\u001b[0mself\u001b[0m\u001b[0;34m,\u001b[0m \u001b[0;34m*\u001b[0m\u001b[0margs\u001b[0m\u001b[0;34m)\u001b[0m\u001b[0;34m:\u001b[0m\u001b[0;34m\u001b[0m\u001b[0;34m\u001b[0m\u001b[0m\n",
            "\u001b[0;31mFileNotFoundError\u001b[0m: [Errno 2] No such file or directory: 'results/cifar10_context_encoder/model_best.pth.tar'"
          ]
        }
      ]
    },
    {
      "cell_type": "code",
      "source": [
        "train_scores = np.array(train_scores)\n",
        "test_scores = np.array(test_scores)\n",
        "\n",
        "test_acc = {\n",
        "    'context_encoder': test_scores[0],\n",
        "    'rotation': test_scores[1],\n",
        "    'simclr': test_scores[2]\n",
        "}\n",
        "\n",
        "index_labels = ['Top-1 Accuracy', 'Top-5 Accuracy']\n",
        "df_test = pd.DataFrame(test_acc, index = index_labels)\n",
        "print(df_test)\n",
        "\n",
        "fig, ax = plt.subplots(figsize=(10, 6))\n",
        "bar_width = 0.2\n",
        "index = np.arange(len(type_models))\n",
        "\n",
        "# Plot bars for each accuracy metric\n",
        "for i, metric in enumerate(df_test.index):\n",
        "    ax.bar(index + i * bar_width, df_test.loc[metric], bar_width, label=metric)\n",
        "\n",
        "# Labeling\n",
        "ax.set_xlabel('Models')\n",
        "ax.set_ylabel('Accuracy (%)')\n",
        "ax.set_title('Comparison of Top-1 and Top-5 Accuracy on test set')\n",
        "ax.set_xticks(index + bar_width / 2)\n",
        "ax.set_xticklabels(df_test.columns)\n",
        "ax.legend()\n",
        "\n",
        "# Show plot\n",
        "plt.show()"
      ],
      "metadata": {
        "colab": {
          "base_uri": "https://localhost:8080/",
          "height": 616
        },
        "id": "ZUughAaaC2Z6",
        "outputId": "1ba63c3a-fbcc-4ccd-81cd-a3981996a0b7"
      },
      "execution_count": null,
      "outputs": [
        {
          "output_type": "stream",
          "name": "stdout",
          "text": [
            "                context_encoder   rotation     simclr\n",
            "Top-1 Accuracy        10.579287  14.747234  11.612631\n",
            "Top-5 Accuracy        50.430240  50.268900  49.738783\n"
          ]
        },
        {
          "output_type": "display_data",
          "data": {
            "text/plain": [
              "<Figure size 1000x600 with 1 Axes>"
            ],
            "image/png": "[encoded data removed]"
          },
          "metadata": {}
        }
      ]
    },
    {
      "cell_type": "markdown",
      "source": [
        "# Prédire la position relative d’un patch de l’image relativement à un patch requête"
      ],
      "metadata": {
        "id": "4gJylxaAMiT4"
      }
    },
    {
      "cell_type": "code",
      "source": [
        "!pip install wget\n",
        "import os\n",
        "import wget\n",
        "import zipfile\n",
        "\n",
        "data_dir = 'data/tiny-imagenet-200'\n",
        "os.makedirs(data_dir, exist_ok=True)\n",
        "url = 'http://cs231n.stanford.edu/tiny-imagenet-200.zip'\n",
        "dataset_path = os.path.join(data_dir, 'tiny-imagenet-200.zip')\n",
        "wget.download(url, dataset_path)\n",
        "with zipfile.ZipFile(dataset_path, 'r') as zip_ref:\n",
        "  zip_ref.extractall(data_dir)\n",
        "os.remove(dataset_path)"
      ],
      "metadata": {
        "colab": {
          "base_uri": "https://localhost:8080/"
        },
        "id": "HjJ42CnL18ZL",
        "outputId": "89aa33a5-0ea1-4ac2-90d7-d2ca796d0199"
      },
      "execution_count": null,
      "outputs": [
        {
          "output_type": "stream",
          "name": "stdout",
          "text": [
            "Collecting wget\n",
            "  Downloading wget-3.2.zip (10 kB)\n",
            "  Preparing metadata (setup.py) ... \u001b[?25l\u001b[?25hdone\n",
            "Building wheels for collected packages: wget\n",
            "  Building wheel for wget (setup.py) ... \u001b[?25l\u001b[?25hdone\n",
            "  Created wheel for wget: filename=wget-3.2-py3-none-any.whl size=9656 sha256=727ff51db647bb6044c16242866ac9e58237c49f2bd6851a72c81e1d203719b1\n",
            "  Stored in directory: /root/.cache/pip/wheels/8b/f1/7f/5c94f0a7a505ca1c81cd1d9208ae2064675d97582078e6c769\n",
            "Successfully built wget\n",
            "Installing collected packages: wget\n",
            "Successfully installed wget-3.2\n"
          ]
        }
      ]
    },
    {
      "cell_type": "code",
      "source": [
        "from skimage import io, transform\n",
        "from torchvision import datasets\n",
        "from torchvision import transforms\n",
        "import torch.utils.data as data\n",
        "from deepul_helper.data import SimCLRDataTransform\n",
        "import os.path as osp\n",
        "import math\n",
        "\n",
        "import torch\n",
        "import torch.optim as optim\n",
        "import torch.nn as nn\n",
        "import torch.nn.functional as F\n",
        "\n",
        "class GetPatches(object):\n",
        "    def __init__(self, patch_dim, gap):\n",
        "        self.patch_dim, self.gap = patch_dim, gap\n",
        "\n",
        "    def __call__(self, sample):\n",
        "        image = np.array(sample)\n",
        "\n",
        "        offset_x, offset_y = image.shape[0] - (self.patch_dim * 3 + self.gap * 2), image.shape[1] - (self.patch_dim * 3 + self.gap * 2)\n",
        "        start_grid_x, start_grid_y = np.random.randint( 0, offset_x), np.random.randint(0, offset_y)\n",
        "        patch_loc_arr = [(1, 1), (1, 2), (1, 3), (2, 1), (2, 3), (3, 1), (3, 2), (3, 3)]\n",
        "        loc = np.random.randint(len(patch_loc_arr))\n",
        "        tempx, tempy = patch_loc_arr[loc]\n",
        "\n",
        "        patch_x_pt = start_grid_x + self.patch_dim * (tempx - 1) + self.gap * (tempx - 1)\n",
        "        patch_y_pt = start_grid_y + self.patch_dim * (tempy - 1) + self.gap * (tempy - 1)\n",
        "        random_patch = image[patch_x_pt:patch_x_pt + self.patch_dim, patch_y_pt:patch_y_pt + self.patch_dim]\n",
        "\n",
        "        patch_x_pt = start_grid_x + self.patch_dim + self.gap\n",
        "        patch_y_pt = start_grid_y + self.patch_dim + self.gap\n",
        "        uniform_patch = image[patch_x_pt:patch_x_pt + self.patch_dim, patch_y_pt:patch_y_pt + self.patch_dim]\n",
        "\n",
        "        random_patch_label = loc\n",
        "\n",
        "        if uniform_patch.shape[0] != 96:\n",
        "            uniform_patch = transform.resize(uniform_patch, (96, 96))\n",
        "            random_patch = transform.resize(random_patch, (96, 96))\n",
        "\n",
        "        return uniform_patch, random_patch, random_patch_label\n",
        "\n",
        "\n",
        "class ToTensor(object):\n",
        "    \"\"\"Convert ndarrays in sample to Tensors.\"\"\"\n",
        "    def __call__(self, sample):\n",
        "        # swap color axis because\n",
        "        # numpy image: H x W x C\n",
        "        # torch image: C X H X W\n",
        "        uniform_patch = sample[0].transpose((2, 0, 1))\n",
        "        random_patch = sample[1].transpose((2, 0, 1))\n",
        "\n",
        "        return uniform_patch, random_patch, sample[2]"
      ],
      "metadata": {
        "id": "rsfiQkwRlOA6"
      },
      "execution_count": null,
      "outputs": []
    },
    {
      "cell_type": "code",
      "source": [
        "def get_transform_patch(dataset, path_dim, gap):\n",
        "  if dataset == 'cifar10':\n",
        "    transform = transforms.Compose([GetPatches(path_dim, gap),\n",
        "                             ToTensor()\n",
        "                            ])\n",
        "  return transform"
      ],
      "metadata": {
        "id": "lI04jn1Fmm5g"
      },
      "execution_count": null,
      "outputs": []
    },
    {
      "cell_type": "code",
      "source": [
        "path_dim = 8\n",
        "gap = 2\n",
        "train_ds = datasets.CIFAR10(osp.join('data', 'cifar10'), train=True,\n",
        "                                      transform=get_transform_patch('cifar10', path_dim, gap),\n",
        "                                      download=True)\n",
        "\n",
        "train_loader = data.DataLoader(train_ds, batch_size=128, num_workers=4,\n",
        "                                      pin_memory=True, shuffle=True)\n"
      ],
      "metadata": {
        "colab": {
          "base_uri": "https://localhost:8080/"
        },
        "id": "9Fc-3dP1l_vQ",
        "outputId": "1b83fbb7-9293-4619-c13c-2e9e656d7068"
      },
      "execution_count": null,
      "outputs": [
        {
          "output_type": "stream",
          "name": "stdout",
          "text": [
            "Files already downloaded and verified\n"
          ]
        }
      ]
    },
    {
      "cell_type": "code",
      "source": [
        "class AlexNetwork(nn.Module):\n",
        "    def __init__(self, aux_logits=False):\n",
        "        super(AlexNetwork, self).__init__()\n",
        "        self.cnn = nn.Sequential(\n",
        "            nn.Conv2d(3, 96, kernel_size=5, stride=4),\n",
        "            nn.ReLU(inplace=True),\n",
        "            nn.MaxPool2d(kernel_size=3, stride=2),\n",
        "            nn.LocalResponseNorm(96),\n",
        "            nn.Conv2d(96, 384, kernel_size=5, stride=2, padding=2),\n",
        "            nn.ReLU(inplace=True),\n",
        "            nn.MaxPool2d(kernel_size=3, stride=2),\n",
        "            nn.LocalResponseNorm(384),\n",
        "            nn.Conv2d(384, 384, kernel_size=3, stride=1, padding=1),\n",
        "            nn.ReLU(inplace=True),\n",
        "            nn.BatchNorm2d(384),\n",
        "            nn.Conv2d(384, 384, kernel_size=3, stride=1, padding=1),\n",
        "            nn.ReLU(inplace=True),\n",
        "            nn.BatchNorm2d(384),\n",
        "            nn.Conv2d(384, 256, kernel_size=3, stride=1, padding=1),\n",
        "            nn.ReLU(inplace=True),\n",
        "            nn.BatchNorm2d(256),\n",
        "            nn.MaxPool2d(kernel_size=3, stride=2, padding=1),\n",
        "        )\n",
        "        self.fc6 = nn.Sequential(\n",
        "            nn.Linear(256, 4096),\n",
        "            nn.ReLU(inplace=True),\n",
        "            nn.BatchNorm1d(4096),\n",
        "        )\n",
        "        self.fc = nn.Sequential(nn.Linear(2 * 4096, 4096),\n",
        "                                nn.ReLU(inplace=True), nn.Linear(4096, 4096),\n",
        "                                nn.ReLU(inplace=True), nn.Linear(4096, 8))\n",
        "\n",
        "    def forward_once(self, x):\n",
        "        output = self.cnn(x)\n",
        "        output = output.view(output.size()[0], -1)\n",
        "        output = self.fc6(output)\n",
        "        return output\n",
        "\n",
        "    def forward(self, input1, input2):\n",
        "        output1 = self.forward_once(input1)\n",
        "        output2 = self.forward_once(input2)\n",
        "        output = torch.cat((output1, output2), 1)\n",
        "        output = self.fc(output)\n",
        "        return output\n",
        "\n",
        "device = torch.device('cuda' if torch.cuda.is_available() else 'cpu')\n",
        "model = AlexNetwork().to(device)"
      ],
      "metadata": {
        "id": "rvry21LZn-9w"
      },
      "execution_count": null,
      "outputs": []
    },
    {
      "cell_type": "code",
      "source": [
        "l_r = 1e-2\n",
        "\n",
        "optimizer = optim.Adam(model.parameters(), lr=l_r)\n",
        "criterion = nn.CrossEntropyLoss()\n",
        "\n",
        "num_epochs = 3\n",
        "MODEL_SAVE_PATH = os.path.join(\n",
        "    'results','patch_prediction', 'cifar10' + str(num_epochs))"
      ],
      "metadata": {
        "id": "fcrdRhWFpdRF"
      },
      "execution_count": null,
      "outputs": []
    },
    {
      "cell_type": "code",
      "source": [
        "import time\n",
        "import numpy as np\n",
        "global_trn_loss = []\n",
        "global_val_loss = []\n",
        "previous_val_loss = 100\n",
        "\n",
        "for epoch in range(num_epochs):\n",
        "    train_running_loss = []\n",
        "    val_running_loss = []\n",
        "    start_time = time.time()\n",
        "    model.train()\n",
        "    for idx, (data, _) in enumerate(train_loader):\n",
        "        image1 = torch.from_numpy(np.array(data[0])).float().to(device)\n",
        "        image2 = torch.from_numpy(np.array(data[1])).float().to(device)\n",
        "        label = torch.from_numpy(np.array(data[2])).long().to(device)\n",
        "\n",
        "        output = model(image1, image2)\n",
        "        loss = criterion(output, label)\n",
        "        train_running_loss.append(loss.item())\n",
        "\n",
        "        optimizer.zero_grad()\n",
        "        loss.backward()\n",
        "        optimizer.step()\n",
        "\n",
        "    global_trn_loss.append(sum(train_running_loss) / len(train_running_loss))\n",
        "\n",
        "    print('Epoch [{}/{}], TRNLoss:{}, Time:{:.2f}'.format(\n",
        "        epoch + 1, num_epochs, global_trn_loss[-1],\n",
        "        (time.time() - start_time) / 60))"
      ],
      "metadata": {
        "colab": {
          "base_uri": "https://localhost:8080/"
        },
        "id": "Kwu0h3UgqBO9",
        "outputId": "5b9dc563-de30-46e4-aa5c-5413d20723c5"
      },
      "execution_count": null,
      "outputs": [
        {
          "output_type": "stream",
          "name": "stdout",
          "text": [
            "Epoch [1/3], TRNLoss:8.035861700087253, Time:4.44\n",
            "Epoch [2/3], TRNLoss:2.0802190017212383, Time:4.45\n",
            "Epoch [3/3], TRNLoss:2.0799089404932984, Time:4.46\n"
          ]
        }
      ]
    }
  ]
}